{
 "cells": [
  {
   "cell_type": "code",
   "execution_count": null,
   "id": "9ff11939",
   "metadata": {},
   "outputs": [],
   "source": [
    "import pandas as pd\n",
    "from sklearn import tree\n",
    "from sklearn.model_selection import train_test_split\n",
    "from matplotlib import pyplot as plt\n",
    "\n",
    "from sklearn import preprocessing\n",
    "from sklearn import utils\n",
    "\n",
    "from sklearn.svm import SVC\n",
    "from sklearn.metrics import accuracy_score\n",
    "\n"
   ]
  },
  {
   "cell_type": "code",
   "execution_count": null,
   "id": "2b22e75d",
   "metadata": {},
   "outputs": [],
   "source": [
    "df = pd.read_csv('covid2.csv', engine = \"python\")"
   ]
  },
  {
   "cell_type": "code",
   "execution_count": null,
   "id": "014ea616",
   "metadata": {},
   "outputs": [],
   "source": [
    "df.drop([\"name\", \"Energy\"], inplace = True, axis = 1)"
   ]
  },
  {
   "cell_type": "code",
   "execution_count": null,
   "id": "aa31fe1b",
   "metadata": {},
   "outputs": [],
   "source": [
    "data_y = df['covid']\n",
    "data_x = df.drop(['covid'], axis = 1) "
   ]
  },
  {
   "cell_type": "code",
   "execution_count": null,
   "id": "1f435379",
   "metadata": {},
   "outputs": [],
   "source": [
    "train_x, test_x, train_y, test_y = train_test_split(data_x, data_y)"
   ]
  },
  {
   "cell_type": "code",
   "execution_count": null,
   "id": "81b31391",
   "metadata": {},
   "outputs": [],
   "source": [
    "train_x"
   ]
  },
  {
   "cell_type": "code",
   "execution_count": null,
   "id": "d4b1f89a",
   "metadata": {},
   "outputs": [],
   "source": [
    "train_y"
   ]
  },
  {
   "cell_type": "code",
   "execution_count": null,
   "id": "003232cb",
   "metadata": {},
   "outputs": [],
   "source": [
    "from sklearn import svm\n",
    "clf = svm.SVC(kernel = 'linear')\n",
    "clf.fit(train_x, train_y)"
   ]
  },
  {
   "cell_type": "code",
   "execution_count": null,
   "id": "6f4b984f",
   "metadata": {},
   "outputs": [],
   "source": [
    "create_curve(train_x, test_x, train_y, test_y)"
   ]
  },
  {
   "cell_type": "code",
   "execution_count": null,
   "id": "13895aa7",
   "metadata": {},
   "outputs": [],
   "source": [
    "from sklearn.datasets import make_blobs\n",
    "from matplotlib import pyplot as plt\n",
    "import numpy as np\n",
    "import pandas as pd \n",
    "from sklearn.model_selection import train_test_split\n",
    "from sklearn.svm import SVC"
   ]
  },
  {
   "cell_type": "code",
   "execution_count": null,
   "id": "8761e1de",
   "metadata": {},
   "outputs": [],
   "source": [
    "X, y = make_blobs(n_samples = 500, centers = 2, cluster_std = 0.59, random_state = 0)\n",
    "train_X, test_X, train_y, test_y = train_test_split(X, y, test_size = 20, random_state = 0)\n",
    "plt.scatter(train_X[:, 0], train_X[:, 1], c = train_y, cmap = 'winter')"
   ]
  },
  {
   "cell_type": "code",
   "execution_count": null,
   "id": "ff8eaf5b",
   "metadata": {},
   "outputs": [],
   "source": [
    "svc = SVC(kernel = 'linear')\n",
    "svc.fit(train_X, train_y)"
   ]
  },
  {
   "cell_type": "code",
   "execution_count": null,
   "id": "8214558a",
   "metadata": {},
   "outputs": [],
   "source": [
    "plt.scatter(train_X[:, 0], train_X[:, 1], c = train_y, cmap = 'winter')\n",
    "\n",
    "ax = plt.gca()\n",
    "xlim = ax.get_xlim()\n",
    "\n",
    "ax.scatter(test_X[:, 0], test_X[:, 1], c = test_y, cmap = 'winter')\n",
    "\n",
    "w = svc.coef_[0]\n",
    "a = - w[0] / w[1]\n",
    "xx = np.linspace(xlim[0], xlim[1])\n",
    "yy = a * xx - (svc.intercept_[0] / w[1])\n",
    "plt.plot(xx, yy)\n",
    "plt.show()"
   ]
  },
  {
   "cell_type": "code",
   "execution_count": null,
   "id": "5c052f02",
   "metadata": {},
   "outputs": [],
   "source": [
    "pred_y = svc.predict(test_X)"
   ]
  },
  {
   "cell_type": "code",
   "execution_count": null,
   "id": "ca6bccc6",
   "metadata": {},
   "outputs": [],
   "source": [
    "from sklearn.metrics import confusion_matrix\n",
    "confusion_matrix(test_y, pred_y"
   ]
  },
  {
   "cell_type": "code",
   "execution_count": null,
   "id": "8fdb8ead",
   "metadata": {},
   "outputs": [],
   "source": []
  }
 ],
 "metadata": {
  "kernelspec": {
   "display_name": "Python 3",
   "language": "python",
   "name": "python3"
  },
  "language_info": {
   "codemirror_mode": {
    "name": "ipython",
    "version": 3
   },
   "file_extension": ".py",
   "mimetype": "text/x-python",
   "name": "python",
   "nbconvert_exporter": "python",
   "pygments_lexer": "ipython3",
   "version": "3.8.8"
  }
 },
 "nbformat": 4,
 "nbformat_minor": 5
}
