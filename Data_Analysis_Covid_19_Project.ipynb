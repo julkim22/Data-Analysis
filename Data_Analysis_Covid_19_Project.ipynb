{
  "nbformat": 4,
  "nbformat_minor": 0,
  "metadata": {
    "colab": {
      "provenance": []
    },
    "kernelspec": {
      "name": "python3",
      "display_name": "Python 3"
    },
    "language_info": {
      "name": "python"
    }
  },
  "cells": [
    {
      "cell_type": "code",
      "source": [
        "#import lib\n",
        "import pandas as pd \n",
        "import numpy as np\n",
        "import matplotlib.pyplot as plt \n",
        "import seaborn as sns \n",
        "import plotly.express as px\n",
        "from plotly.subplots import make_subplots\n",
        "from dtermine import datetime"
      ],
      "metadata": {
        "id": "XJlZcM9b2aSv"
      },
      "execution_count": null,
      "outputs": []
    },
    {
      "cell_type": "code",
      "execution_count": null,
      "metadata": {
        "id": "IYxrLrOG7Clg"
      },
      "outputs": [],
      "source": [
        "# 1sr step - import libraries\n",
        "covid_df = pd.read_csv(\"#address of data\") \n",
        "covid_df.head(10) # out: first ten positions \n",
        "covid_df.info() # open the descriptions of data\n",
        "covid_df.describe() # basic desctiptive statistics: mean, sd\n",
        "\n",
        "#move to vac data set\n",
        "# if I want to drop some dats\n",
        "covid_df.drop([\"Sno\", \"Time\", \"ConfirmIN\"], inplace = True, axis = 1) # only this ones will be removed\n",
        "covid_df['Date'] = pd.to_datetime(covid_df['date'], format = %Y - % m - %d)\n",
        "# active cases\n",
        "covid_df['Active_cases'] = covid_df['confirmed'] - (covid_df['cured'] + covid_df['death'])\n",
        "covid_df.tail() \n",
        "\n",
        "statewise = pd.pivot_table(covid_df, values = [\"confirmed\", \"death\", \"cured\"], index = \"stateTerritory\", aggfunc = max)\n",
        "statewise [\"recovery rate\"] = statewise[\"cured\"] * 100 / statewise[\"confirmed\"]\n",
        "statewise[\"mortality rate\"] = statewise[\"Death\"] * 100 / stateeise[\"confirmed\"]\n",
        "statewise = statewise.sort_values(by = \"Confirmed\"n asceding  = False) # now it is the last step of calculation\n",
        "\n",
        "# hoe to print our outputs\n",
        "statewise.style.backgtound_gradient(cmap = 'cubehelix') #cmap = it is one of library to color and design our charts\n"
      ]
    },
    {
      "cell_type": "code",
      "source": [
        "# (START)top 10 active cases states\n",
        "top_10_active_cases = covid_df.groupby(by = 'stateTerritory').,max()[[\"active cases\", \"date\"]].\n",
        "sort_values(by = [\"active_cases\"], ascending = False). reset_index()"
      ],
      "metadata": {
        "id": "-BZSTzTBKfA7"
      },
      "execution_count": null,
      "outputs": []
    },
    {
      "cell_type": "code",
      "source": [
        "#risuem\n",
        "fig = plt.figure(figsize = (16,9))\n"
      ],
      "metadata": {
        "id": "ldVgVitNMGUY"
      },
      "execution_count": null,
      "outputs": []
    },
    {
      "cell_type": "code",
      "source": [
        "#how to make a title?\n",
        "plt.title(\"Top 10 states with most active cases in India\", size = 25)"
      ],
      "metadata": {
        "id": "N2jAHJuMMqnf"
      },
      "execution_count": null,
      "outputs": []
    },
    {
      "cell_type": "code",
      "source": [
        "#how to name x, y sides? (bokovye nazvania grapha)\n",
        "ax = sns.barplot(data = top_10_active_states.iloc[:10], y = \"Active class\", x = \"states\", linewigth =2, edgecolor = 'red')\n"
      ],
      "metadata": {
        "id": "-dfW4sGYNMvA"
      },
      "execution_count": null,
      "outputs": []
    },
    {
      "cell_type": "code",
      "source": [
        "#what to do if names are overlaped? \n",
        "# add all previous function first started with \"top 10\"\n",
        "top_ 10_ active_cases = covid_df.groupby(by = 'stateTerritory').,max()[[\"active cases\", \"date\"]].\n",
        "sort_values(by = [\"active_cases\"], ascending = False). reset_index()\n",
        "fig = plt.figure(figsize = (16,9))\n",
        "plt.title(\"Top 10 states with most active cases in India\", size = 25)\n",
        "ax = sns.barplot(data = top_10_active_states.iloc[:10], y = \"Active class\", x = \"states\", linewigth =2, edgecolor = 'red')\n",
        "#new part\n",
        "plt.xlabel(\"states\")\n",
        "plt.ylabel(\"Total cases\")\n",
        "plt.show()"
      ],
      "metadata": {
        "id": "SU42rua5RCIj"
      },
      "execution_count": null,
      "outputs": []
    },
    {
      "cell_type": "code",
      "source": [
        "# top states euth highest deaths\n",
        "top_10_death = covid_df.groupby(by = \"stateTerritory\").max()[['death', 'date']].sort_values\n",
        "fig = plt.figure(figsize=(18,5))\n",
        "plt.title(\"top 10 states with most death\", size = 25)\n",
        "ax = sns.barplot(data = top_10_death.iloc[:12], y = \"death\", x = \"stateterritory\", linewith = 2, edgecolor = 'black')\n",
        "plt.xlabel(\"states\")\n",
        "plt.ylabel(\"total death cases\")\n",
        "plt.show"
      ],
      "metadata": {
        "id": "-n3umdbtUwRO"
      },
      "execution_count": null,
      "outputs": []
    },
    {
      "cell_type": "code",
      "source": [
        "#TRENDS\n",
        "# growth trend\n",
        "fig = plt.figure(figsize = (12,6))\n",
        "ax = sns.lineplot(data = covid_df[covid+df[stateterritory].isin([\"variable\", 'variable']),\n",
        "                                  x = 'date', y = 'active class', hue = 'state']) # you can choose any vatiables and any amount\n",
        "ax.set_title(\"top 5 affected states in india\") #graph how trend changed for each var"
      ],
      "metadata": {
        "id": "aLgfkC_0XGj-"
      },
      "execution_count": null,
      "outputs": []
    },
    {
      "cell_type": "code",
      "source": [
        "def sum(a, b = 0):\n",
        "  return(a + b)\n",
        "\n",
        "sum(b = 5)"
      ],
      "metadata": {
        "id": "4XnMmnTr4M18"
      },
      "execution_count": null,
      "outputs": []
    },
    {
      "cell_type": "code",
      "source": [
        "# CHANGE NAME \n",
        "vaccine_df.rename(columns = {'Updated on' : 'Vaccine_data'}, inplace = True)\n",
        "vaccint_df.head(10)\n",
        "vaccine_df.info()  # missing var appear\n",
        "\n",
        "# HOW TO FIND MISSING Val?\n",
        "vaccine_df.idnull().sum() #amount in each coloumn\n",
        "\n",
        "#how to delete with the plenty numb of miss var\n",
        "vaccination = vaccint_df.drop(coolumns = ['vse peremen kot hochesh udalit'], axis = 1) #chto takoe axis?\n"
      ],
      "metadata": {
        "id": "-d0kcsMaeeaO"
      },
      "execution_count": null,
      "outputs": []
    },
    {
      "cell_type": "code",
      "source": [
        "# HOW to compare two groups\n",
        "# Male vs femsle vaccination\n",
        "\n",
        "male = vaccination[\"Male(individuals vaccinated)\".sum()]\n",
        "female = vaccination[\"Female(individuals Vaccinated)\"].sum()\n",
        "px.pie(names = [\"Male\", \"Female\"], values = [male, female], title = \"Male and Female vaccination\")"
      ],
      "metadata": {
        "id": "XCe0GVH7i7K6"
      },
      "execution_count": null,
      "outputs": []
    },
    {
      "cell_type": "code",
      "source": [
        "# remove rows where state = india\n",
        "\n",
        "vaccine = vaccine_df[vaccine_df.state!='india'] #pochemy net probelov? \n",
        "vaccine #print\n",
        "vaccine.rename(columns - {\"tota; individuals vaccinated\": \"total\"}, inplace = True)\n",
        "vaccinr.head()"
      ],
      "metadata": {
        "id": "XlT2BBgWlH8d"
      },
      "execution_count": null,
      "outputs": []
    },
    {
      "cell_type": "code",
      "source": [
        "# most vaccinated state\n",
        "max_vac = vaccine.groupby('State')['Total'].sum().to_frame('Total')\n",
        "max_vac = max_vac.sort_values('total', accending = False)[:5] #esli print cejchas to poluchitsya spisok peremen s sam vys vac, teper nujno coz chart\n",
        "#convert to a chart \n",
        "fig = plt.figure(figsize=(10,5))\n",
        "plt.title(\"top 5 vaccinated states in india\", size = 20)\n",
        "ax = sns.barplot(data = max_vac.iloc[:10], y = max_vac.Total, x = max_vac.index, linewith = 2, edgecolor = 'black')\n",
        "plt.xlabel(\"states\")\n",
        "plt.ylabel(\"vacination\")\n",
        "plt.show"
      ],
      "metadata": {
        "id": "XqLmSiFjnO4l"
      },
      "execution_count": null,
      "outputs": []
    }
  ]
}