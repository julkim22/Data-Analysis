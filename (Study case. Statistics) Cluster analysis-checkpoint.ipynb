{
 "cells": [
  {
   "cell_type": "code",
   "execution_count": null,
   "id": "d1a7972c",
   "metadata": {},
   "outputs": [],
   "source": [
    "import numppy as np \n",
    "import pandas as pd \n",
    "import matplotlib \n",
    "import matplotlib.pyplot as plt\n",
    "matplotlib.style.use('ggplot')\n",
    "%matplotlib inline\n",
    "\n",
    "import os"
   ]
  },
  {
   "cell_type": "code",
   "execution_count": null,
   "id": "b970d2a7",
   "metadata": {},
   "outputs": [],
   "source": [
    "os.chdir(\"adress://\")"
   ]
  },
  {
   "cell_type": "code",
   "execution_count": null,
   "id": "e8d4768b",
   "metadata": {},
   "outputs": [],
   "source": [
    "df = pd.read_csv(\"name of document\", sep = \";\", index_col = 'numb.obs')"
   ]
  },
  {
   "cell_type": "code",
   "execution_count": null,
   "id": "4a7faa9a",
   "metadata": {},
   "outputs": [],
   "source": [
    "df.head()"
   ]
  },
  {
   "cell_type": "code",
   "execution_count": null,
   "id": "84fabfa3",
   "metadata": {},
   "outputs": [],
   "source": [
    "from scipy.cluster.hierarchy import dendrogram, linkage, fcluster\n",
    "\n",
    "# place where we can find it later:\n",
    "link = linkage(df, 'ward, 'euclidean')"
   ]
  },
  {
   "cell_type": "code",
   "execution_count": null,
   "id": "db28278e",
   "metadata": {},
   "outputs": [],
   "source": [
    "link[:5] "
   ]
  },
  {
   "cell_type": "code",
   "execution_count": null,
   "id": "ace7596f",
   "metadata": {},
   "outputs": [],
   "source": [
    "#function for dendrogram\n",
    "dn = dendrogram(link, orientation = \"right\")"
   ]
  },
  {
   "cell_type": "code",
   "execution_count": null,
   "id": "2e563acc",
   "metadata": {},
   "outputs": [],
   "source": [
    "#stop unification when distance between clusters become larger than between observations\n",
    "df['cluster'] = fcluster(link, 3, criterion = 'distance')"
   ]
  },
  {
   "cell_type": "code",
   "execution_count": null,
   "id": "0b5f6ac6",
   "metadata": {},
   "outputs": [],
   "source": [
    "df.groupby('cluster').mean()   #average score of all observations, and group data by number of cluster  \n",
    "# po suti eta f pokazyvaet kakoi % ludei/participants delelo ili ne delalo chto-to"
   ]
  },
  {
   "cell_type": "code",
   "execution_count": null,
   "id": "979df364",
   "metadata": {},
   "outputs": [],
   "source": [
    "#if you want to know how many observations in each cluster:\n",
    "df.groupby('cluster').size()"
   ]
  }
 ],
 "metadata": {
  "kernelspec": {
   "display_name": "Python 3",
   "language": "python",
   "name": "python3"
  },
  "language_info": {
   "codemirror_mode": {
    "name": "ipython",
    "version": 3
   },
   "file_extension": ".py",
   "mimetype": "text/x-python",
   "name": "python",
   "nbconvert_exporter": "python",
   "pygments_lexer": "ipython3",
   "version": "3.8.8"
  }
 },
 "nbformat": 4,
 "nbformat_minor": 5
}
