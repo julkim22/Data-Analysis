{
 "cells": [
  {
   "cell_type": "code",
   "execution_count": null,
   "id": "fbab4d4e",
   "metadata": {},
   "outputs": [],
   "source": [
    "import pandas as pd \n",
    "import matplotlib\n",
    "import matplotlib.pyplot as plt \n",
    "matplotlib.style.use('ggplot')\n",
    "%matplotlib inline \n",
    "import os"
   ]
  },
  {
   "cell_type": "code",
   "execution_count": null,
   "id": "d672febd",
   "metadata": {
    "collapsed": true
   },
   "outputs": [],
   "source": [
    "os.chdir(adress)"
   ]
  },
  {
   "cell_type": "code",
   "execution_count": null,
   "id": "2916dff0",
   "metadata": {},
   "outputs": [],
   "source": [
    "df = pd.read_csv(\"databasegde\", sep = \";\")"
   ]
  },
  {
   "cell_type": "code",
   "execution_count": null,
   "id": "e78f43fa",
   "metadata": {},
   "outputs": [],
   "source": [
    "from sklearn.cluster import KMeans\n",
    "model = KMeans(n_clusters = 2, random_state = 42)"
   ]
  },
  {
   "cell_type": "code",
   "execution_count": null,
   "id": "5b0afaa6",
   "metadata": {},
   "outputs": [],
   "source": [
    "#podgonka modeli po dannym iz df \n",
    "model.fit(df)"
   ]
  },
  {
   "cell_type": "code",
   "execution_count": null,
   "id": "4c7af256",
   "metadata": {},
   "outputs": [],
   "source": [
    "mode.labels_\n",
    "model.cluster_centers_"
   ]
  },
  {
   "cell_type": "code",
   "execution_count": null,
   "id": "734afad4",
   "metadata": {},
   "outputs": [],
   "source": [
    "#new observation' prediction \n",
    "new_items = [\n",
    "    [1,1,1,1,1,1,1,1,1], \n",
    "    [0,0,0,0,0,0,0,0,0]\n",
    "]\n",
    "model.predict(new_items)"
   ]
  },
  {
   "cell_type": "code",
   "execution_count": null,
   "id": "f7d95ccc",
   "metadata": {},
   "outputs": [],
   "source": [
    "#kak opredelyat chislo klasterov?\n",
    "K = range(1, 11)\n",
    "models = [KMeans(n_clusters = k, random_state = 42). fit]\n",
    "dist = [model.interia_for model in models]\n",
    "\n",
    "#plot the elbow:\n",
    "plt.plot(K, dist, marker = 'o')\n",
    "plt.xlabel('k')\n",
    "plt.ylabel('sum of distances')\n",
    "plt.title('the elbow methodshowing the optimal K')\n",
    "plt.show()"
   ]
  },
  {
   "cell_type": "code",
   "execution_count": null,
   "id": "9e3f4d0d",
   "metadata": {},
   "outputs": [],
   "source": [
    "# we make decision that 3 claster is good choice --> we want to know which observations were included in each cluster:\n",
    "# for that we use label_ --> then count average meaninigs for each cluster\n",
    "model = KMeans(n_clusters = 3, random_state = 42)\n",
    "model.fit(df)\n",
    "df[cluster] = model.labels_\n",
    "df.groupby('cluster').mean()"
   ]
  },
  {
   "cell_type": "code",
   "execution_count": null,
   "id": "73e4dd34",
   "metadata": {},
   "outputs": [],
   "source": [
    "df.groupby('cluster').size()"
   ]
  }
 ],
 "metadata": {
  "kernelspec": {
   "display_name": "Python 3",
   "language": "python",
   "name": "python3"
  },
  "language_info": {
   "codemirror_mode": {
    "name": "ipython",
    "version": 3
   },
   "file_extension": ".py",
   "mimetype": "text/x-python",
   "name": "python",
   "nbconvert_exporter": "python",
   "pygments_lexer": "ipython3",
   "version": "3.8.8"
  }
 },
 "nbformat": 4,
 "nbformat_minor": 5
}
